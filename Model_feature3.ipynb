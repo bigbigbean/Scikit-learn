{
 "cells": [
  {
   "cell_type": "markdown",
   "metadata": {},
   "source": [
    "# Scikit learn (莫烦Python教程)"
   ]
  },
  {
   "cell_type": "markdown",
   "metadata": {},
   "source": [
    "model常用属性 bili系列教程7 boston.py"
   ]
  },
  {
   "cell_type": "code",
   "execution_count": 1,
   "metadata": {},
   "outputs": [],
   "source": [
    "import warnings\n",
    "warnings.filterwarnings('ignore')"
   ]
  },
  {
   "cell_type": "code",
   "execution_count": 2,
   "metadata": {},
   "outputs": [
    {
     "name": "stdout",
     "output_type": "stream",
     "text": [
      "[-1.07170557e-01  4.63952195e-02  2.08602395e-02  2.68856140e+00\n",
      " -1.77957587e+01  3.80475246e+00  7.51061703e-04 -1.47575880e+00\n",
      "  3.05655038e-01 -1.23293463e-02 -9.53463555e-01  9.39251272e-03\n",
      " -5.25466633e-01]\n",
      "36.4911032803614\n"
     ]
    }
   ],
   "source": [
    "from sklearn import datasets\n",
    "from sklearn.linear_model import LinearRegression\n",
    "\n",
    "#高度统一的形式\n",
    "loaded_data = datasets.load_boston()\n",
    "data_X = loaded_data.data    #.data就是x\n",
    "data_y = loaded_data.target  #.traget就是y\n",
    "\n",
    "model = LinearRegression()  #选择model\n",
    "model.fit(data_X,data_y)    #model训练完成\n",
    "\n",
    "#print(model.predict(data_X[:4,:]))\n",
    "#print(data_y[:4])           #前四个数据的预测值与真实值的比较\n",
    "print(model.coef_)      #y = 0.1 x+0.3  0.1\n",
    "print(model.intercept_) #y = 0.1 x+0.3  0.3 与y轴交点"
   ]
  },
  {
   "cell_type": "markdown",
   "metadata": {},
   "source": [
    "上面的model.coef_和model.intercept_就是整个LinearRegression的参数\n",
    "除了这两个属性，model还有一些功能：比如model.predict(),model.get_params()(返回之前设定的参数),model.score()"
   ]
  },
  {
   "cell_type": "code",
   "execution_count": 3,
   "metadata": {},
   "outputs": [
    {
     "name": "stdout",
     "output_type": "stream",
     "text": [
      "{'fit_intercept': True, 'copy_X': True, 'normalize': False, 'n_jobs': 1}\n"
     ]
    }
   ],
   "source": [
    "print(model.get_params())"
   ]
  },
  {
   "cell_type": "markdown",
   "metadata": {},
   "source": [
    "对model学到的东西进行打分，测试吻合度（data_X做预测，data_y作为对比验证）输出百分之多少是预测正确的（准确度）"
   ]
  },
  {
   "cell_type": "code",
   "execution_count": 4,
   "metadata": {},
   "outputs": [
    {
     "name": "stdout",
     "output_type": "stream",
     "text": [
      "0.7406077428649428\n"
     ]
    }
   ],
   "source": [
    "print(model.score(data_X, data_y)) #R^2 coefficient of determination"
   ]
  }
 ],
 "metadata": {
  "kernelspec": {
   "display_name": "Python 3",
   "language": "python",
   "name": "python3"
  },
  "language_info": {
   "codemirror_mode": {
    "name": "ipython",
    "version": 3
   },
   "file_extension": ".py",
   "mimetype": "text/x-python",
   "name": "python",
   "nbconvert_exporter": "python",
   "pygments_lexer": "ipython3",
   "version": "3.5.5"
  }
 },
 "nbformat": 4,
 "nbformat_minor": 2
}
