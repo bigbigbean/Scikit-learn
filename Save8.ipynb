{
 "cells": [
  {
   "cell_type": "markdown",
   "metadata": {},
   "source": [
    "# Scikit learn (莫烦Python教程)"
   ]
  },
  {
   "cell_type": "markdown",
   "metadata": {},
   "source": [
    "保存 bili系列教程13 "
   ]
  },
  {
   "cell_type": "code",
   "execution_count": 1,
   "metadata": {},
   "outputs": [],
   "source": [
    "import warnings\n",
    "warnings.filterwarnings('ignore')"
   ]
  },
  {
   "cell_type": "code",
   "execution_count": 3,
   "metadata": {},
   "outputs": [],
   "source": [
    "from sklearn import svm\n",
    "from sklearn import datasets\n",
    "\n",
    "clf = svm.SVC()    #分类器\n",
    "iris = datasets.load_iris()  #load数据\n",
    "X,y = iris.data,iris.target  #load数据\n",
    "clf.fit(X,y)       #训练    \n",
    "\n",
    "#method1: pickle保存\n",
    "import pickle\n",
    "#Save\n",
    "with open('save/clf.pickle','wb') as f:\n",
    "    #首先要在同一根目录下创建一个save文件夹\n",
    "    pickle.dump(clf,f)"
   ]
  },
  {
   "cell_type": "markdown",
   "metadata": {},
   "source": [
    "运行以上程序，在save文件夹中产生一个文件clf.pickle"
   ]
  },
  {
   "cell_type": "code",
   "execution_count": 4,
   "metadata": {},
   "outputs": [
    {
     "name": "stdout",
     "output_type": "stream",
     "text": [
      "[0]\n"
     ]
    }
   ],
   "source": [
    "#Restore\n",
    "with open('save/clf.pickle','rb') as f:\n",
    "    #读这个文件 然后使用它预测\n",
    "    clf2=pickle.load(f)\n",
    "    print(clf2.predict(X[0:1]))"
   ]
  },
  {
   "cell_type": "markdown",
   "metadata": {},
   "source": [
    "以上为method 1，是python里的方法:pickle；以下为method 2，是scikit learn的方法:joblib.\n",
    "官方文件说，joblib比pickle在处理很多文件时会更快一些，因为joblib用了多线程。"
   ]
  },
  {
   "cell_type": "code",
   "execution_count": 5,
   "metadata": {},
   "outputs": [
    {
     "name": "stdout",
     "output_type": "stream",
     "text": [
      "[0]\n"
     ]
    }
   ],
   "source": [
    "#method 2:joblib\n",
    "from sklearn.externals import joblib\n",
    "#Save\n",
    "joblib.dump(clf,'save/clf.pkl')\n",
    "#Restore\n",
    "clf3 = joblib.load('save/clf.pkl')\n",
    "print(clf3.predict(X[0:1]))"
   ]
  },
  {
   "cell_type": "markdown",
   "metadata": {},
   "source": [
    "存储起来再读取，节省了每次训练数据的时间。"
   ]
  }
 ],
 "metadata": {
  "kernelspec": {
   "display_name": "Python 3",
   "language": "python",
   "name": "python3"
  },
  "language_info": {
   "codemirror_mode": {
    "name": "ipython",
    "version": 3
   },
   "file_extension": ".py",
   "mimetype": "text/x-python",
   "name": "python",
   "nbconvert_exporter": "python",
   "pygments_lexer": "ipython3",
   "version": "3.5.5"
  }
 },
 "nbformat": 4,
 "nbformat_minor": 2
}
