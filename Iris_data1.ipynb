{
 "cells": [
  {
   "cell_type": "markdown",
   "metadata": {},
   "source": [
    "# Scikit learn (莫烦Python教程)"
   ]
  },
  {
   "cell_type": "markdown",
   "metadata": {},
   "source": [
    "通用学习模式 bili系列教程5 irisdatasets.py"
   ]
  },
  {
   "cell_type": "code",
   "execution_count": 2,
   "metadata": {},
   "outputs": [],
   "source": [
    "import warnings\n",
    "warnings.filterwarnings('ignore')"
   ]
  },
  {
   "cell_type": "code",
   "execution_count": 4,
   "metadata": {},
   "outputs": [],
   "source": [
    "import numpy as np\n",
    "from sklearn import datasets\n",
    "from sklearn.cross_validation import train_test_split\n",
    "from sklearn.neighbors import KNeighborsClassifier\n",
    "\n",
    "iris = datasets.load_iris();\n",
    "iris_X = iris.data;\n",
    "iris_y = iris.target;"
   ]
  },
  {
   "cell_type": "code",
   "execution_count": 5,
   "metadata": {},
   "outputs": [
    {
     "name": "stdout",
     "output_type": "stream",
     "text": [
      "[[5.1 3.5 1.4 0.2]\n",
      " [4.9 3.  1.4 0.2]]\n",
      "[0 0 0 0 0 0 0 0 0 0 0 0 0 0 0 0 0 0 0 0 0 0 0 0 0 0 0 0 0 0 0 0 0 0 0 0 0\n",
      " 0 0 0 0 0 0 0 0 0 0 0 0 0 1 1 1 1 1 1 1 1 1 1 1 1 1 1 1 1 1 1 1 1 1 1 1 1\n",
      " 1 1 1 1 1 1 1 1 1 1 1 1 1 1 1 1 1 1 1 1 1 1 1 1 1 1 2 2 2 2 2 2 2 2 2 2 2\n",
      " 2 2 2 2 2 2 2 2 2 2 2 2 2 2 2 2 2 2 2 2 2 2 2 2 2 2 2 2 2 2 2 2 2 2 2 2 2\n",
      " 2 2]\n"
     ]
    }
   ],
   "source": [
    "print(iris_X[:2,:]);\n",
    "print(iris_y);"
   ]
  },
  {
   "cell_type": "markdown",
   "metadata": {},
   "source": [
    "print(iris_X[:2,:]) 输出两个sample的所有属性，比如花瓣长度、直径之类的\n",
    "print(iris_y)输出真实的花的三种分类 "
   ]
  },
  {
   "cell_type": "code",
   "execution_count": 6,
   "metadata": {},
   "outputs": [
    {
     "name": "stdout",
     "output_type": "stream",
     "text": [
      "[2 1 0 2 2 0 0 0 0 2 0 1 0 1 2 1 1 1 0 1 1 2 1 0 1 1 0 0 1 2 2 1 0 2 1 0 1\n",
      " 1 2 2 1 2 2 1 1 0 2 0 2 1 1 2 0 0 2 0 2 1 0 1 2 0 1 1 0 2 1 2 2 2 1 0 2 1\n",
      " 0 2 2 0 2 1 2 0 0 0 2 2 2 0 0 2 0 2 0 2 0 2 1 2 2 2 1 0 1 1 1]\n"
     ]
    }
   ],
   "source": [
    "X_train, X_test,y_train, y_test = train_test_split(iris_X,iris_y,test_size=0.3);\n",
    "print(y_train);"
   ]
  },
  {
   "cell_type": "markdown",
   "metadata": {},
   "source": [
    "test占30%，train占70%。 输出y_train，可见y被打乱了，更适合训练模型。"
   ]
  },
  {
   "cell_type": "code",
   "execution_count": 7,
   "metadata": {},
   "outputs": [
    {
     "name": "stdout",
     "output_type": "stream",
     "text": [
      "[2 0 0 0 0 1 0 2 1 1 2 0 0 1 0 2 1 0 1 1 2 2 1 2 2 0 0 0 1 1 1 1 0 1 0 0 0\n",
      " 2 2 2 0 1 1 2 2]\n",
      "[2 0 0 0 0 1 0 2 1 1 2 0 0 1 0 2 1 0 1 1 1 2 1 2 2 0 0 0 1 1 1 1 0 1 0 0 0\n",
      " 2 2 2 0 1 1 2 2]\n"
     ]
    }
   ],
   "source": [
    "knn = KNeighborsClassifier();\n",
    "knn.fit(X_train,y_train);    #完成training步骤\n",
    "print(knn.predict(X_test));  #输出训练好的model的预测值\n",
    "print(y_test);               #输出model的真实值，对比"
   ]
  },
  {
   "cell_type": "markdown",
   "metadata": {},
   "source": [
    "输出预测值和真实值对比，较为接近。"
   ]
  }
 ],
 "metadata": {
  "kernelspec": {
   "display_name": "Python 3",
   "language": "python",
   "name": "python3"
  },
  "language_info": {
   "codemirror_mode": {
    "name": "ipython",
    "version": 3
   },
   "file_extension": ".py",
   "mimetype": "text/x-python",
   "name": "python",
   "nbconvert_exporter": "python",
   "pygments_lexer": "ipython3",
   "version": "3.5.5"
  }
 },
 "nbformat": 4,
 "nbformat_minor": 2
}
